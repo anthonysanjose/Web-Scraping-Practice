{
 "cells": [
  {
   "cell_type": "code",
   "execution_count": 7,
   "metadata": {},
   "outputs": [
    {
     "name": "stdout",
     "output_type": "stream",
     "text": [
      "number of datasets from data.gov\n",
      "217,434 datasets\n"
     ]
    }
   ],
   "source": [
    "#Python program to get the number of datasets currently listed on data.gov. \n",
    "from lxml import html\n",
    "import requests\n",
    "response = requests.get('http://www.data.gov/')\n",
    "doc_datagov = html.fromstring(response.text)\n",
    "link_datagov = doc_datagov.cssselect('small a')[0]\n",
    "print(\"number of datasets from data.gov\")\n",
    "print(link_datagov.text)"
   ]
  },
  {
   "cell_type": "code",
   "execution_count": 34,
   "metadata": {},
   "outputs": [
    {
     "name": "stdout",
     "output_type": "stream",
     "text": [
      "latitude is :- 40.7127281 \n",
      "longtitude is:- -74.0060152\n"
     ]
    }
   ],
   "source": [
    "#Python program to convert an address into geographic coordinates. \n",
    "from geopy.geocoders import Nominatim\n",
    "geolocator = Nominatim(user_agent=\"my_user_agent\")\n",
    "city =\"New York\"\n",
    "country =\"Usa\"\n",
    "loc = geolocator.geocode(city+','+ country)\n",
    "print(\"latitude is :-\" ,loc.latitude,\"\\nlongtitude is:-\" ,loc.longitude)"
   ]
  },
  {
   "cell_type": "code",
   "execution_count": 36,
   "metadata": {},
   "outputs": [
    {
     "name": "stdout",
     "output_type": "stream",
     "text": [
      "Most recently added dataset on data.gov\n",
      "COVID-19 Community Profile Report\n"
     ]
    }
   ],
   "source": [
    "#Python program to display the name of the most recently added dataset on data.gov. \n",
    "from lxml import html\n",
    "import requests\n",
    "response = requests.get('http://catalog.data.gov/dataset?q=&sort=metadata_created+desc')\n",
    "doc = html.fromstring(response.text)\n",
    "title = doc.cssselect('h3.dataset-heading')[0].text_content()\n",
    "print(\"Most recently added dataset on data.gov\")\n",
    "print(title.strip())"
   ]
  },
  {
   "cell_type": "code",
   "execution_count": 40,
   "metadata": {},
   "outputs": [
    {
     "name": "stdout",
     "output_type": "stream",
     "text": [
      "<h1>Example Domain</h1>\n"
     ]
    }
   ],
   "source": [
    "#Python program to extract h1 tag from example.com. \n",
    "from urllib.request import urlopen\n",
    "from bs4 import BeautifulSoup\n",
    "html = urlopen('http://www.example.com/')\n",
    "bsoup = BeautifulSoup(html.read(), 'html.parser')\n",
    "print(bsoup.h1)"
   ]
  },
  {
   "cell_type": "code",
   "execution_count": 42,
   "metadata": {},
   "outputs": [
    {
     "name": "stdout",
     "output_type": "stream",
     "text": [
      "Wiki header tags\n",
      "\n",
      "<h1 class=\"firstHeading\" id=\"firstHeading\" lang=\"en\">Main Page</h1>\n",
      "\n",
      "<h2 class=\"mp-h2\" id=\"mp-tfa-h2\"><span id=\"From_today.27s_featured_article\"></span><span class=\"mw-headline\" id=\"From_today's_featured_article\">From today's featured article</span></h2>\n",
      "\n",
      "<h2 class=\"mp-h2\" id=\"mp-dyk-h2\"><span class=\"mw-headline\" id=\"Did_you_know_...\">Did you know ...</span></h2>\n",
      "\n",
      "<h2 class=\"mp-h2\" id=\"mp-itn-h2\"><span class=\"mw-headline\" id=\"In_the_news\">In the news</span></h2>\n",
      "\n",
      "<h2 class=\"mp-h2\" id=\"mp-otd-h2\"><span class=\"mw-headline\" id=\"On_this_day\">On this day</span></h2>\n",
      "\n",
      "<h2 class=\"mp-h2\" id=\"mp-tfp-h2\"><span id=\"Today.27s_featured_picture\"></span><span class=\"mw-headline\" id=\"Today's_featured_picture\">Today's featured picture</span></h2>\n",
      "\n",
      "<h2 class=\"mp-h2\" id=\"mp-other\"><span class=\"mw-headline\" id=\"Other_areas_of_Wikipedia\">Other areas of Wikipedia</span></h2>\n",
      "\n",
      "<h2 class=\"mp-h2\" id=\"mp-sister\"><span id=\"Wikipedia.27s_sister_projects\"></span><span class=\"mw-headline\" id=\"Wikipedia's_sister_projects\">Wikipedia's sister projects</span></h2>\n",
      "\n",
      "<h2 class=\"mp-h2\" id=\"mp-lang\"><span class=\"mw-headline\" id=\"Wikipedia_languages\">Wikipedia languages</span></h2>\n",
      "\n",
      "<h2>Navigation menu</h2>\n",
      "\n",
      "<h3 id=\"p-personal-label\">\n",
      "<span>Personal tools</span>\n",
      "</h3>\n",
      "\n",
      "<h3 id=\"p-namespaces-label\">\n",
      "<span>Namespaces</span>\n",
      "</h3>\n",
      "\n",
      "<h3 id=\"p-variants-label\">\n",
      "<span>Variants</span>\n",
      "</h3>\n",
      "\n",
      "<h3 id=\"p-views-label\">\n",
      "<span>Views</span>\n",
      "</h3>\n",
      "\n",
      "<h3 id=\"p-cactions-label\">\n",
      "<span>More</span>\n",
      "</h3>\n",
      "\n",
      "<h3>\n",
      "<label for=\"searchInput\">Search</label>\n",
      "</h3>\n",
      "\n",
      "<h3 id=\"p-navigation-label\">\n",
      "<span>Navigation</span>\n",
      "</h3>\n",
      "\n",
      "<h3 id=\"p-interaction-label\">\n",
      "<span>Contribute</span>\n",
      "</h3>\n",
      "\n",
      "<h3 id=\"p-tb-label\">\n",
      "<span>Tools</span>\n",
      "</h3>\n",
      "\n",
      "<h3 id=\"p-coll-print_export-label\">\n",
      "<span>Print/export</span>\n",
      "</h3>\n",
      "\n",
      "<h3 id=\"p-wikibase-otherprojects-label\">\n",
      "<span>In other projects</span>\n",
      "</h3>\n",
      "\n",
      "<h3 id=\"p-lang-label\">\n",
      "<span>Languages</span>\n",
      "</h3>\n"
     ]
    }
   ],
   "source": [
    "#Python program to extract and display all the header tags from en.wikipedia.org/wiki/Main_Page. \n",
    "from urllib.request import urlopen\n",
    "from bs4 import BeautifulSoup\n",
    "html = urlopen('https://en.wikipedia.org/wiki/Main_Page')\n",
    "bsoup = BeautifulSoup(html, \"html.parser\")\n",
    "titles = bsoup.find_all(['h1', 'h2','h3','h4','h5','h6'])\n",
    "print('Wiki header tags', *titles, sep='\\n\\n')"
   ]
  },
  {
   "cell_type": "code",
   "execution_count": 43,
   "metadata": {},
   "outputs": [
    {
     "name": "stdout",
     "output_type": "stream",
     "text": [
      "//upload.wikimedia.org/wikipedia/commons/thumb/a/af/NlaJeffrey1942-43.jpg/220px-NlaJeffrey1942-43.jpg\n",
      "\n",
      "//upload.wikimedia.org/wikipedia/commons/thumb/c/c5/008315JeffreyTurnbull1941.jpg/260px-008315JeffreyTurnbull1941.jpg\n",
      "\n",
      "//upload.wikimedia.org/wikipedia/commons/e/ea/021807CameronJeffrey1941.jpg\n",
      "\n",
      "//upload.wikimedia.org/wikipedia/commons/thumb/9/92/AC0072JeffreyTruscottKittyhawks1942.jpg/280px-AC0072JeffreyTruscottKittyhawks1942.jpg\n",
      "\n",
      "//upload.wikimedia.org/wikipedia/commons/thumb/2/26/VIC1689Jeffrey1945.jpg/280px-VIC1689Jeffrey1945.jpg\n",
      "\n"
     ]
    }
   ],
   "source": [
    "#Python program to extract and display all the image links from en.wikipedia.org/wiki/Peter_Jeffrey_(RAAF_officer).\n",
    "from urllib.request import urlopen\n",
    "from bs4 import BeautifulSoup\n",
    "import re\n",
    "html = urlopen('https://en.wikipedia.org/wiki/Peter_Jeffrey_(RAAF_officer)')\n",
    "bsoup = BeautifulSoup(html, 'html.parser')\n",
    "images = bsoup.find_all('img', {'src':re.compile('.jpg')})\n",
    "for image in images: \n",
    "    print(image['src']+'\\n')"
   ]
  },
  {
   "cell_type": "code",
   "execution_count": 47,
   "metadata": {},
   "outputs": [
    {
     "name": "stdout",
     "output_type": "stream",
     "text": [
      "Total visits for the last 90 days by browser for data.gov sites:\n",
      "{'Chrome': 2553728607, 'Safari': 1746680460, 'Edge': 243433478, 'Firefox': 171483149, 'Samsung Internet': 125119706, 'Internet Explorer': 166712841, 'Safari (in-app)': 66965814, 'Android Webview': 50504894, 'Opera': 15811096, 'Amazon Silk': 10136870, 'Mercari_d': 5691903, 'UC Browser': 1962976, 'Opera Mini': 1672722, 'YaBrowser': 1701326, 'Mozilla Compatible Agent': 1637839, 'ELB-HealthChecker': 450928, 'Coc Coc': 457411, 'Android Browser': 349492, 'ThousandEyes': 178995, 'Amazon.com': 218656, '[FBAN': 98220, 'Playstation 4': 41145, 'DoximityWebView': 59418, 'SeaMonkey': 130582, 'Mozilla': 105520, 'bitdiscovery': 208692, 'Puffin': 111463, 'BublupBot': 85491, 'BlackBerry': 181170, 'UA-name:iOSDasherWebView; client-version: 2.98.1.4763.200915': 7142, '172.51.247.10:9092': 9570, 'Voxgov': 76819, 'Android Runtime': 123268, 'Maxthon': 49598, 'IRS - TRG19-01Loeim': 62114, 'United States Postal Service - TRG19-01Loeim': 60094, 'Papers': 40136, 'candroid': 30840, 'BestBuy': 224275, 'Instagram 158.1.0.29.120': 1930, 'Instagram 159.0.0.28.123': 2988, 'MagentaNews': 26256, 'CypressBrowser': 27517, 'Netscape': 2588, 'Turnitin': 8130, 'Iron': 32518, 'Carousel': 19208, 'WordPress': 17918, 'WizenozeBot': 3875, 'iPhone': 11641, 'com.tophatter v5.3.0': 2196, 'Nintendo Browser': 5453, 'Instagram 119.0.0.25.146': 524, '(not set)': 21258, 'DwSiteChecker': 10324, 'Instagram 137.0.0.30.124': 112, 'ZhihuHybrid DefaultBrowser osee2unifiedRelease': 2866, 'Instagram 158.0.0.27.120': 1619, 'mediacloud bot for open academic research': 2601, 'UA-name:iOSDasherWebView; client-version: 2.96.0.4392.200904': 240, 'lua-resty-http': 26598, 'UNL_SITEMASTER': 1437, 'Instagram 156.0.0.26.109': 1535, 'Microsoft Office Word 2014': 15829, 'com.airfind.deltabrowser': 9577, 'WordPress.com; https:': 264, 'Bluebeam Revu Browser - cef version: 57.0.0.0': 6159, 'Emb': 24647, 'Handshake iOS 3.0.7': 510, 'Google-Test2': 7509, 'Instagram 147.0.0.30.121': 482, 'UA-name:iOSDasherWebView; client-version: 2.100.0.4873.200918': 8448, 'Android': 1682, 'Instagram 160.1.0.31.120': 4583, 'Jetty': 2597, 'Playstation 3': 1003, 'Instagram 142.0.0.22.109': 416, '192.168.25.97:9092': 1327, 'Booking.App': 629, 'Seznam': 1410, 'HubSpot-Link-Resolver': 112, 'MRCHROME': 4493, 'UA-name:iOSDasherWebView; client-version: 2.102.0.5031.200926': 14832, 'Instagram 161.0.0.41.119': 3018, 'Penthouse Critical Path CSS Generator': 129, 'Handshake iOS 3.0.8': 208, 'Screaming Frog SEO Spider': 2387, 'WWApp WWMobile': 1789, 'Phantom.js bot': 624, 'pa11y': 7237, 'M': 6304, 'com.doximity.doximitydroid': 677, 'Instagram 161.1.0.43.119': 3572, 'Handshake iOS 3.0.9': 703, 'Instagram 162.0.0.35.121': 8580, 'qbhttp': 418, 'Microsoft Office Excel 2014': 674, '172.18.13.10:9092': 1630, 'Instagram 163.0.0.41.120': 9784, 'Lynx': 244, 'PolycomVVX Lync': 3990, 'UA-name:iOSDasherWebView; client-version: 2.106.1.5511.201013': 3826, 'UA-name:iOSDasherWebView; client-version: 2.106.20.5603.201016': 2335, '\"Mozilla': 103, 'UA-name:iOSDasherWebView; client-version: 2.106.22.5645.201019': 2322, 'UA-name:iOSDasherWebView; client-version: 2.108.1.5652.201019': 6742, 'Instagram 164.0.0.35.119': 4963, 'Lore Document Collector 5a20b182ca368a24e6462a7ac6947051': 4634, 'stay-app': 164, 'Handshake iOS 3.0.10': 260, 'Lore Document Collector 1bb1dbb613d0db2041e35f52fea672c7': 216, 'Instagram 154.0.0.25.120': 1107, 'UA-name:iOSDasherWebView; client-version: 2.110.0.5730.201023': 7279, 'TE_IEP': 597907, 'Instagram 165.0.0.20.119': 6228, 'UA-name:iOSDasherWebView; client-version: 2.112.0.5957.201103': 6773, 'Papers2 Thumbnail Helper': 817, 'casper': 1069, 'LeapPadUltimate': 203, 'Revolut': 483, 'Handshake iOS 3.1.0': 576, 'Instagram 166.0.0.40.241': 561, 'UA-name:iOSDasherWebView; client-version: 2.114.1.6146.201110': 7035, 'parties_info': 211, 'Hexometer': 323, 'Airbnb': 4528, 'Instagram 166.1.0.41.241': 4270, 'UA-name:iOSDasherWebView; client-version: 2.116.0.6279.201113': 894, 'class s extends Function{constructor': 205, 'Instagram 155.0.0.26.107': 135, 'UA-name:iOSDasherWebView; client-version: 2.116.1.6372.201118': 7114, 'TotalValidator': 373, 'httpx - Open-source project': 5029, 'http4s-blaze': 422, 'Instagram 167.0.0.18.114': 8759, 'UA-name:iOSDasherWebView; client-version: 2.118.1.6476.201123': 6036, 'Welltory': 101, 'Pcore-HTTP': 172, 'R2gClient': 1525, 'UA-name:iOSDasherWebView; client-version: 2.120.1.6609.201201': 9453, 'axios': 1893, \"'Mozilla\": 108, 'UA-name:iOSDasherWebView; client-version: 2.122.0.6757.201205': 8363, 'Instagram 168.0.0.24.350': 3481, 'Microsoft Office Excel 2013': 405, 'Xenu Link Sleuth': 164, 'JovemNerdApp': 152, 'UA-name:iOSDasherWebView; client-version: 2.124.1.6886.201215': 844, 'Instagram 169.0.0.21.133': 1054, 'AdobeAIR': 437}\n"
     ]
    }
   ],
   "source": [
    "#Python program to get 90 days of visits broken down by browser for all sites on data.gov. \n",
    "import requests\n",
    "x = requests.get(\"https://analytics.usa.gov/data/live/browsers.json\")\n",
    "print(\"Total visits for the last 90 days by browser for data.gov sites:\")\n",
    "print(x.json()['totals']['browser'])"
   ]
  },
  {
   "cell_type": "code",
   "execution_count": 49,
   "metadata": {},
   "outputs": [
    {
     "name": "stdout",
     "output_type": "stream",
     "text": [
      "#mw-head\n",
      "#searchInput\n",
      "https://en.wiktionary.org/wiki/Python\n",
      "https://en.wiktionary.org/wiki/python\n",
      "/wiki/Pythons\n",
      "/wiki/Python_(genus)\n",
      "#Computing\n",
      "#People\n",
      "#Roller_coasters\n",
      "#Vehicles\n",
      "#Weaponry\n",
      "#Other_uses\n",
      "#See_also\n",
      "/w/index.php?title=Python&action=edit&section=1\n",
      "/wiki/Python_(programming_language)\n",
      "/wiki/CMU_Common_Lisp\n",
      "/wiki/PERQ#PERQ_3\n",
      "/w/index.php?title=Python&action=edit&section=2\n",
      "/wiki/Python_of_Aenus\n",
      "/wiki/Python_(painter)\n",
      "/wiki/Python_of_Byzantium\n",
      "/wiki/Python_of_Catana\n",
      "/wiki/Python_Anghelo\n",
      "/w/index.php?title=Python&action=edit&section=3\n",
      "/wiki/Python_(Efteling)\n",
      "/wiki/Python_(Busch_Gardens_Tampa_Bay)\n",
      "/wiki/Python_(Coney_Island,_Cincinnati,_Ohio)\n",
      "/w/index.php?title=Python&action=edit&section=4\n",
      "/wiki/Python_(automobile_maker)\n",
      "/wiki/Python_(Ford_prototype)\n",
      "/w/index.php?title=Python&action=edit&section=5\n",
      "/wiki/Python_(missile)\n",
      "/wiki/Python_(nuclear_primary)\n",
      "/wiki/Colt_Python\n",
      "/w/index.php?title=Python&action=edit&section=6\n",
      "/wiki/PYTHON\n",
      "/wiki/Python_(film)\n",
      "/wiki/Python_(mythology)\n",
      "/wiki/Monty_Python\n",
      "/wiki/Python_(Monty)_Pictures\n",
      "/w/index.php?title=Python&action=edit&section=7\n",
      "/wiki/Cython\n",
      "/wiki/Pyton\n",
      "/wiki/Pithon\n",
      "/wiki/File:Disambig_gray.svg\n",
      "/wiki/Help:Disambiguation\n",
      "https://en.wikipedia.org/w/index.php?title=Special:WhatLinksHere/Python&namespace=0\n",
      "https://en.wikipedia.org/w/index.php?title=Python&oldid=993591990\n",
      "/wiki/Help:Category\n",
      "/wiki/Category:Disambiguation_pages\n",
      "/wiki/Category:Human_name_disambiguation_pages\n",
      "/wiki/Category:Disambiguation_pages_with_given-name-holder_lists\n",
      "/wiki/Category:Disambiguation_pages_with_short_descriptions\n",
      "/wiki/Category:Short_description_is_different_from_Wikidata\n",
      "/wiki/Category:All_article_disambiguation_pages\n",
      "/wiki/Category:All_disambiguation_pages\n",
      "/wiki/Category:Animal_common_name_disambiguation_pages\n",
      "/wiki/Special:MyTalk\n",
      "/wiki/Special:MyContributions\n",
      "/w/index.php?title=Special:CreateAccount&returnto=Python\n",
      "/w/index.php?title=Special:UserLogin&returnto=Python\n",
      "/wiki/Python\n",
      "/wiki/Talk:Python\n",
      "/wiki/Python\n",
      "/w/index.php?title=Python&action=edit\n",
      "/w/index.php?title=Python&action=history\n",
      "/wiki/Main_Page\n",
      "/wiki/Main_Page\n",
      "/wiki/Wikipedia:Contents\n",
      "/wiki/Portal:Current_events\n",
      "/wiki/Special:Random\n",
      "/wiki/Wikipedia:About\n",
      "//en.wikipedia.org/wiki/Wikipedia:Contact_us\n",
      "https://donate.wikimedia.org/wiki/Special:FundraiserRedirector?utm_source=donate&utm_medium=sidebar&utm_campaign=C13_en.wikipedia.org&uselang=en\n",
      "/wiki/Help:Contents\n",
      "/wiki/Help:Introduction\n",
      "/wiki/Wikipedia:Community_portal\n",
      "/wiki/Special:RecentChanges\n",
      "/wiki/Wikipedia:File_Upload_Wizard\n",
      "/wiki/Special:WhatLinksHere/Python\n",
      "/wiki/Special:RecentChangesLinked/Python\n",
      "/wiki/Wikipedia:File_Upload_Wizard\n",
      "/wiki/Special:SpecialPages\n",
      "/w/index.php?title=Python&oldid=993591990\n",
      "/w/index.php?title=Python&action=info\n",
      "/w/index.php?title=Special:CiteThisPage&page=Python&id=993591990&wpFormIdentifier=titleform\n",
      "https://www.wikidata.org/wiki/Special:EntityPage/Q747452\n",
      "/w/index.php?title=Special:DownloadAsPdf&page=Python&action=show-download-screen\n",
      "/w/index.php?title=Python&printable=yes\n",
      "https://commons.wikimedia.org/wiki/Category:Python\n",
      "https://af.wikipedia.org/wiki/Python\n",
      "https://als.wikipedia.org/wiki/Python\n",
      "https://ar.wikipedia.org/wiki/%D8%A8%D8%A7%D9%8A%D8%AB%D9%88%D9%86_(%D8%AA%D9%88%D8%B6%D9%8A%D8%AD)\n",
      "https://az.wikipedia.org/wiki/Python\n",
      "https://bn.wikipedia.org/wiki/%E0%A6%AA%E0%A6%BE%E0%A6%87%E0%A6%A5%E0%A6%A8_(%E0%A6%A6%E0%A7%8D%E0%A6%AC%E0%A7%8D%E0%A6%AF%E0%A6%B0%E0%A7%8D%E0%A6%A5%E0%A6%A4%E0%A6%BE_%E0%A6%A8%E0%A6%BF%E0%A6%B0%E0%A6%B8%E0%A6%A8)\n",
      "https://be.wikipedia.org/wiki/Python\n",
      "https://bg.wikipedia.org/wiki/%D0%9F%D0%B8%D1%82%D0%BE%D0%BD_(%D0%BF%D0%BE%D1%8F%D1%81%D0%BD%D0%B5%D0%BD%D0%B8%D0%B5)\n",
      "https://cs.wikipedia.org/wiki/Python_(rozcestn%C3%ADk)\n",
      "https://da.wikipedia.org/wiki/Python\n",
      "https://de.wikipedia.org/wiki/Python\n",
      "https://eo.wikipedia.org/wiki/Pitono_(apartigilo)\n",
      "https://eu.wikipedia.org/wiki/Python_(argipena)\n",
      "https://fa.wikipedia.org/wiki/%D9%BE%D8%A7%DB%8C%D8%AA%D9%88%D9%86\n",
      "https://fr.wikipedia.org/wiki/Python\n",
      "https://ko.wikipedia.org/wiki/%ED%8C%8C%EC%9D%B4%EC%84%A0\n",
      "https://hr.wikipedia.org/wiki/Python_(razdvojba)\n",
      "https://io.wikipedia.org/wiki/Pitono\n",
      "https://id.wikipedia.org/wiki/Python\n",
      "https://ia.wikipedia.org/wiki/Python_(disambiguation)\n",
      "https://is.wikipedia.org/wiki/Python_(a%C3%B0greining)\n",
      "https://it.wikipedia.org/wiki/Python_(disambigua)\n",
      "https://he.wikipedia.org/wiki/%D7%A4%D7%99%D7%AA%D7%95%D7%9F\n",
      "https://ka.wikipedia.org/wiki/%E1%83%9E%E1%83%98%E1%83%97%E1%83%9D%E1%83%9C%E1%83%98_(%E1%83%9B%E1%83%A0%E1%83%90%E1%83%95%E1%83%90%E1%83%9A%E1%83%9B%E1%83%9C%E1%83%98%E1%83%A8%E1%83%95%E1%83%9C%E1%83%94%E1%83%9A%E1%83%9D%E1%83%95%E1%83%90%E1%83%9C%E1%83%98)\n",
      "https://kg.wikipedia.org/wiki/Mboma_(nyoka)\n",
      "https://la.wikipedia.org/wiki/Python_(discretiva)\n",
      "https://lb.wikipedia.org/wiki/Python\n",
      "https://hu.wikipedia.org/wiki/Python_(egy%C3%A9rtelm%C5%B1s%C3%ADt%C5%91_lap)\n",
      "https://mr.wikipedia.org/wiki/%E0%A4%AA%E0%A4%BE%E0%A4%AF%E0%A4%A5%E0%A5%89%E0%A4%A8_(%E0%A4%86%E0%A4%9C%E0%A5%8D%E0%A4%9E%E0%A4%BE%E0%A4%B5%E0%A4%B2%E0%A5%80_%E0%A4%AD%E0%A4%BE%E0%A4%B7%E0%A4%BE)\n",
      "https://nl.wikipedia.org/wiki/Python\n",
      "https://ja.wikipedia.org/wiki/%E3%83%91%E3%82%A4%E3%82%BD%E3%83%B3\n",
      "https://no.wikipedia.org/wiki/Pyton\n",
      "https://pl.wikipedia.org/wiki/Pyton\n",
      "https://pt.wikipedia.org/wiki/Python_(desambigua%C3%A7%C3%A3o)\n",
      "https://ru.wikipedia.org/wiki/Python_(%D0%B7%D0%BD%D0%B0%D1%87%D0%B5%D0%BD%D0%B8%D1%8F)\n",
      "https://sk.wikipedia.org/wiki/Python\n",
      "https://sr.wikipedia.org/wiki/%D0%9F%D0%B8%D1%82%D0%BE%D0%BD_(%D0%B2%D0%B8%D1%88%D0%B5%D0%B7%D0%BD%D0%B0%D1%87%D0%BD%D0%B0_%D0%BE%D0%B4%D1%80%D0%B5%D0%B4%D0%BD%D0%B8%D1%86%D0%B0)\n",
      "https://sh.wikipedia.org/wiki/Python\n",
      "https://fi.wikipedia.org/wiki/Python\n",
      "https://sv.wikipedia.org/wiki/Pyton\n",
      "https://th.wikipedia.org/wiki/%E0%B9%84%E0%B8%9E%E0%B8%97%E0%B8%AD%E0%B8%99\n",
      "https://tr.wikipedia.org/wiki/Python\n",
      "https://uk.wikipedia.org/wiki/%D0%9F%D1%96%D1%84%D0%BE%D0%BD\n",
      "https://ur.wikipedia.org/wiki/%D9%BE%D8%A7%D8%A6%DB%8C%D8%AA%DA%BE%D9%88%D9%86\n",
      "https://vi.wikipedia.org/wiki/Python\n",
      "https://zh.wikipedia.org/wiki/Python_(%E6%B6%88%E6%AD%A7%E4%B9%89)\n",
      "https://www.wikidata.org/wiki/Special:EntityPage/Q747452#sitelinks-wikipedia\n",
      "//en.wikipedia.org/wiki/Wikipedia:Text_of_Creative_Commons_Attribution-ShareAlike_3.0_Unported_License\n",
      "//creativecommons.org/licenses/by-sa/3.0/\n",
      "//foundation.wikimedia.org/wiki/Terms_of_Use\n",
      "//foundation.wikimedia.org/wiki/Privacy_policy\n",
      "//www.wikimediafoundation.org/\n",
      "https://foundation.wikimedia.org/wiki/Privacy_policy\n",
      "/wiki/Wikipedia:About\n",
      "/wiki/Wikipedia:General_disclaimer\n",
      "//en.wikipedia.org/wiki/Wikipedia:Contact_us\n",
      "//en.m.wikipedia.org/w/index.php?title=Python&mobileaction=toggle_view_mobile\n",
      "https://www.mediawiki.org/wiki/Special:MyLanguage/How_to_contribute\n",
      "https://stats.wikimedia.org/#/en.wikipedia.org\n",
      "https://foundation.wikimedia.org/wiki/Cookie_statement\n",
      "https://wikimediafoundation.org/\n",
      "https://www.mediawiki.org/\n"
     ]
    }
   ],
   "source": [
    "#Python program to that retrieves an arbitary Wikipedia page of \"Python\" and creates a list of links on that page. \n",
    "from urllib.request import urlopen\n",
    "from bs4 import BeautifulSoup\n",
    "html = urlopen(\"https://en.wikipedia.org/wiki/Python\")\n",
    "bsoup = BeautifulSoup(html)\n",
    "for link in bsoup.findAll(\"a\"):\n",
    "  if 'href' in link.attrs:\n",
    "    print(link.attrs['href'])"
   ]
  },
  {
   "cell_type": "code",
   "execution_count": 59,
   "metadata": {},
   "outputs": [
    {
     "name": "stdout",
     "output_type": "stream",
     "text": [
      "None\n",
      "<h1 class=\"referral\"></h1>\n",
      "<h1>Example Domain</h1>\n"
     ]
    }
   ],
   "source": [
    "#Python program to check whether a page contains a title or not.\n",
    "from urllib.request import urlopen\n",
    "from urllib.error import HTTPError\n",
    "from bs4 import BeautifulSoup\n",
    "def getTitle(url):\n",
    "    try:\n",
    "        html = urlopen(url)\n",
    "    except HTTPError as e:\n",
    "        return None\n",
    "    try:\n",
    "        bsoup = BeautifulSoup(html.read(), \"lxml\")\n",
    "        title = bsoup.body.h1\n",
    "    except AttributeError as e:\n",
    "        return None\n",
    "    return title    \n",
    "    title = getTitle(url)\n",
    "    if title == None:\n",
    "      return \"No title\"\n",
    "    else:\n",
    "      return title\n",
    "print(getTitle(\"https://www.weather.com/\"))\n",
    "print(getTitle(\"https://www.nyit.edu/\"))\n",
    "print(getTitle(\"https://www.example.com/\"))"
   ]
  },
  {
   "cell_type": "code",
   "execution_count": 63,
   "metadata": {},
   "outputs": [
    {
     "name": "stdout",
     "output_type": "stream",
     "text": [
      "\n",
      "English\n",
      "6 207 000+ articles\n",
      "\n",
      "\n",
      "Español\n",
      "1 646 000+ artículos\n",
      "\n",
      "\n",
      "日本語\n",
      "1 243 000+ 記事\n",
      "\n",
      "\n",
      "Deutsch\n",
      "2 510 000+ Artikel\n",
      "\n",
      "\n",
      "Русский\n",
      "1 682 000+ статей\n",
      "\n",
      "\n",
      "Français\n",
      "2 277 000+ articles\n",
      "\n",
      "\n",
      "Italiano\n",
      "1 658 000+ voci\n",
      "\n",
      "\n",
      "中文\n",
      "1 163 000+ 條目\n",
      "\n",
      "\n",
      "Português\n",
      "1 049 000+ artigos\n",
      "\n",
      "\n",
      "Polski\n",
      "1 444 000+ haseł\n",
      "\n"
     ]
    }
   ],
   "source": [
    "#Python program to list all language names and number of related articles in the order they appear in wikipedia.org. \n",
    "from urllib.request import urlopen\n",
    "from bs4 import BeautifulSoup\n",
    "html = urlopen('https://www.wikipedia.org/')\n",
    "bsoup = BeautifulSoup(html, \"html.parser\")\n",
    "nameList = bsoup.findAll('a', {'class' : 'link-box'})\n",
    "for name in nameList:\n",
    "  print(name.get_text())"
   ]
  },
  {
   "cell_type": "code",
   "execution_count": 66,
   "metadata": {},
   "outputs": [
    {
     "name": "stdout",
     "output_type": "stream",
     "text": [
      "Number of people currently visiting a U.S. government website\n",
      "344287\n"
     ]
    }
   ],
   "source": [
    "#Python program to get the number of people visiting a U.S. government website right now. \n",
    "import requests\n",
    "website = 'https://analytics.usa.gov/data/live/realtime.json'\n",
    "x = requests.get(website).json()\n",
    "print(\"Number of people currently visiting a U.S. government website\")\n",
    "print(x['data'][0]['active_visitors'])"
   ]
  },
  {
   "cell_type": "code",
   "execution_count": 68,
   "metadata": {},
   "outputs": [
    {
     "name": "stdout",
     "output_type": "stream",
     "text": [
      "Number of security alerts issued by US-CERT this year:\n",
      "30\n"
     ]
    }
   ],
   "source": [
    "#Python program get the number of security alerts issued by US-CERT in the current year. \n",
    "import requests\n",
    "from lxml import html\n",
    "website = 'https://www.us-cert.gov/ncas/alerts'\n",
    "doc = html.fromstring(requests.get(website).text)\n",
    "print(\"Number of security alerts issued by US-CERT this year:\")\n",
    "print(len(doc.cssselect('.item-list li')))"
   ]
  },
  {
   "cell_type": "code",
   "execution_count": null,
   "metadata": {},
   "outputs": [],
   "source": []
  }
 ],
 "metadata": {
  "kernelspec": {
   "display_name": "Python 3",
   "language": "python",
   "name": "python3"
  },
  "language_info": {
   "codemirror_mode": {
    "name": "ipython",
    "version": 3
   },
   "file_extension": ".py",
   "mimetype": "text/x-python",
   "name": "python",
   "nbconvert_exporter": "python",
   "pygments_lexer": "ipython3",
   "version": "3.7.6"
  }
 },
 "nbformat": 4,
 "nbformat_minor": 4
}
